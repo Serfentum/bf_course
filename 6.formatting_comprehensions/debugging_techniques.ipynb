{
 "cells": [
  {
   "cell_type": "markdown",
   "metadata": {
    "slideshow": {
     "slide_type": "slide"
    }
   },
   "source": [
    "# Debugging techniques\n",
    "![pycharm_debugger](images/pycharm_debugger.png)"
   ]
  },
  {
   "cell_type": "markdown",
   "metadata": {
    "slideshow": {
     "slide_type": "slide"
    }
   },
   "source": [
    "What is a debugging?\n",
    "\n",
    "![](images/bug.jpg)"
   ]
  },
  {
   "cell_type": "markdown",
   "metadata": {
    "slideshow": {
     "slide_type": "subslide"
    }
   },
   "source": [
    "![](images/beautiful_debugging.gif)"
   ]
  },
  {
   "cell_type": "code",
   "execution_count": 20,
   "metadata": {
    "slideshow": {
     "slide_type": "subslide"
    }
   },
   "outputs": [
    {
     "data": {
      "text/html": [
       "<iframe src=\"https://vk.com/doc133929101_423442246?hash=8a00acdd416e8a223a&dl=015901e93f20212dda\" width=\"700\" height=\"510\" frameborder=\"0\" webkitallowfullscreen mozallowfullscreen allowfullscreen></iframe>"
      ],
      "text/plain": [
       "<IPython.core.display.HTML object>"
      ]
     },
     "execution_count": 20,
     "metadata": {},
     "output_type": "execute_result"
    }
   ],
   "source": [
    "from IPython.display import Video\n",
    "\n",
    "HTML('<iframe src=\"https://vk.com/doc133929101_423442246?hash=8a00acdd416e8a223a&dl=015901e93f20212dda\" width=\"700\" height=\"510\" frameborder=\"0\" webkitallowfullscreen mozallowfullscreen allowfullscreen></iframe>')"
   ]
  },
  {
   "cell_type": "markdown",
   "metadata": {
    "slideshow": {
     "slide_type": "slide"
    }
   },
   "source": [
    "Bugs can be really easy"
   ]
  },
  {
   "cell_type": "code",
   "execution_count": 21,
   "metadata": {
    "slideshow": {
     "slide_type": "fragment"
    }
   },
   "outputs": [
    {
     "ename": "NameError",
     "evalue": "name 'prit' is not defined",
     "output_type": "error",
     "traceback": [
      "\u001b[0;31m---------------------------------------------------------------------------\u001b[0m",
      "\u001b[0;31mNameError\u001b[0m                                 Traceback (most recent call last)",
      "\u001b[0;32m<ipython-input-21-fe4019629a7d>\u001b[0m in \u001b[0;36m<module>\u001b[0;34m()\u001b[0m\n\u001b[0;32m----> 1\u001b[0;31m \u001b[0mprit\u001b[0m\u001b[0;34m(\u001b[0m\u001b[0;34m'So fucking easy'\u001b[0m\u001b[0;34m)\u001b[0m\u001b[0;34m\u001b[0m\u001b[0m\n\u001b[0m",
      "\u001b[0;31mNameError\u001b[0m: name 'prit' is not defined"
     ]
    }
   ],
   "source": [
    "prit('So fucking easy')"
   ]
  },
  {
   "cell_type": "markdown",
   "metadata": {
    "slideshow": {
     "slide_type": "fragment"
    }
   },
   "source": [
    "And really tricky (I won't give you examples now)"
   ]
  },
  {
   "cell_type": "markdown",
   "metadata": {
    "slideshow": {
     "slide_type": "subslide"
    }
   },
   "source": [
    "Let's classify them\n",
    "* Syntax errors - classic shit:\n",
    "    * mistyped function name\n",
    "    * missed `:` and so on\n",
    "\n",
    "Programs with these errors failed once you try to launch it, and it is good - you get informed about this mess.\n",
    "\n",
    "With expirience you will write better, and you will be able to just read a message to understand what's wrong and fix it, so they are easy"
   ]
  },
  {
   "cell_type": "markdown",
   "metadata": {
    "slideshow": {
     "slide_type": "subslide"
    }
   },
   "source": [
    "* \"Static\" runtime errors - slightly harder:\n",
    "    * use `index` on empty list\n",
    "    * subtract number from string\n",
    "    * divide by 0  and so on\n",
    "    \n",
    "Programs with these errors failed once interpreter try to run line of code with error"
   ]
  },
  {
   "cell_type": "markdown",
   "metadata": {
    "slideshow": {
     "slide_type": "subslide"
    }
   },
   "source": [
    "* Logic errors - fucking motherfuckers:\n",
    "    * \\- instead of +\n",
    "    * inverse predicate and so on\n",
    "    \n",
    "These ones will not fail and it is awful - you need to go through your code to find it, moreover you could even don't no about their presence!"
   ]
  },
  {
   "cell_type": "markdown",
   "metadata": {
    "slideshow": {
     "slide_type": "fragment"
    }
   },
   "source": [
    "In addition to last type some bugs are random - they occur only at some conditions:\n",
    "* random number\n",
    "* user input"
   ]
  },
  {
   "cell_type": "markdown",
   "metadata": {
    "slideshow": {
     "slide_type": "subslide"
    }
   },
   "source": [
    "![](images/many_bugs.png)"
   ]
  },
  {
   "cell_type": "markdown",
   "metadata": {
    "slideshow": {
     "slide_type": "slide"
    }
   },
   "source": [
    "## Main question of this lecture - How to deal with bugs\n",
    "Well you have several options. Bad one is passively staring into code\n",
    "\n",
    "Good ones:\n",
    "1. Debugging prints\n",
    "1. Debugger\n",
    "1. Rubber Duck"
   ]
  },
  {
   "cell_type": "markdown",
   "metadata": {
    "slideshow": {
     "slide_type": "subslide"
    }
   },
   "source": [
    "### prints\n",
    "Just add `print` statements at points of your program where something is changed"
   ]
  },
  {
   "cell_type": "code",
   "execution_count": 8,
   "metadata": {
    "slideshow": {
     "slide_type": "fragment"
    }
   },
   "outputs": [
    {
     "data": {
      "text/plain": [
       "15"
      ]
     },
     "execution_count": 8,
     "metadata": {},
     "output_type": "execute_result"
    }
   ],
   "source": [
    "# Number of cakes\n",
    "cakes = 0\n",
    "\n",
    "# Baker cook 3 cooks each day\n",
    "for i in range(10):\n",
    "    cakes += 3\n",
    "\n",
    "# Your grandmother suddenly cooked 15 cakes\n",
    "cakes -= 15\n",
    "\n",
    "cakes"
   ]
  },
  {
   "cell_type": "code",
   "execution_count": 13,
   "metadata": {
    "slideshow": {
     "slide_type": "subslide"
    }
   },
   "outputs": [
    {
     "name": "stdout",
     "output_type": "stream",
     "text": [
      "Baking iteration number 0 - 3 cakes\n",
      "Baking iteration number 1 - 6 cakes\n",
      "Baking iteration number 2 - 9 cakes\n",
      "Baking iteration number 3 - 12 cakes\n",
      "Baking iteration number 4 - 15 cakes\n",
      "Baking iteration number 5 - 18 cakes\n",
      "Baking iteration number 6 - 21 cakes\n",
      "Baking iteration number 7 - 24 cakes\n",
      "Baking iteration number 8 - 27 cakes\n",
      "Baking iteration number 9 - 30 cakes\n",
      "After grandmother gift - 15\n"
     ]
    },
    {
     "data": {
      "text/plain": [
       "15"
      ]
     },
     "execution_count": 13,
     "metadata": {},
     "output_type": "execute_result"
    }
   ],
   "source": [
    "# Number of cakes\n",
    "cakes = 0\n",
    "\n",
    "# Baker cook 3 cooks each day\n",
    "for i in range(10):\n",
    "    cakes += 3\n",
    "    print('Baking iteration number', i, '-', cakes, 'cakes')\n",
    "\n",
    "# Your grandmother suddenly cooked 15 cakes\n",
    "cakes -= 15\n",
    "print('After grandmother gift -', cakes)\n",
    "\n",
    "cakes"
   ]
  },
  {
   "cell_type": "markdown",
   "metadata": {
    "slideshow": {
     "slide_type": "subslide"
    }
   },
   "source": [
    "### Debuggers\n",
    "Important part of debugging - visualize value of all variables. Similar to [pythontutor](http://www.pythontutor.com/visualize.html#mode=edit) but works with more complex programs"
   ]
  },
  {
   "cell_type": "markdown",
   "metadata": {
    "slideshow": {
     "slide_type": "subslide"
    }
   },
   "source": [
    "### Duck\n",
    "And the best method\n",
    "\n",
    "![](images/duck_helper.png)"
   ]
  },
  {
   "cell_type": "markdown",
   "metadata": {
    "slideshow": {
     "slide_type": "slide"
    }
   },
   "source": [
    "It is quite a usual situation to create bugs after fixing ones due to system complexity - imagine changing of hormone concentration in organism\n",
    "\n",
    "![](images/debugging_continue.png)"
   ]
  },
  {
   "cell_type": "markdown",
   "metadata": {
    "slideshow": {
     "slide_type": "slide"
    }
   },
   "source": [
    "What to do with it? We will talk about it later)"
   ]
  }
 ],
 "metadata": {
  "celltoolbar": "Slideshow",
  "kernelspec": {
   "display_name": "Python 3",
   "language": "python",
   "name": "python3"
  },
  "language_info": {
   "codemirror_mode": {
    "name": "ipython",
    "version": 3
   },
   "file_extension": ".py",
   "mimetype": "text/x-python",
   "name": "python",
   "nbconvert_exporter": "python",
   "pygments_lexer": "ipython3",
   "version": "3.6.7"
  }
 },
 "nbformat": 4,
 "nbformat_minor": 2
}
