{
 "cells": [
  {
   "cell_type": "markdown",
   "metadata": {
    "slideshow": {
     "slide_type": "slide"
    }
   },
   "source": [
    "# IO\n",
    "![](images/io.jpg)"
   ]
  },
  {
   "cell_type": "markdown",
   "metadata": {
    "slideshow": {
     "slide_type": "slide"
    }
   },
   "source": [
    "## Input-Output Purpose\n",
    "\n",
    "* read data from files\n",
    "* write data to files"
   ]
  },
  {
   "cell_type": "markdown",
   "metadata": {
    "slideshow": {
     "slide_type": "fragment"
    }
   },
   "source": [
    "How to perform it?\n",
    "\n",
    "There is an `open()` function to open files"
   ]
  },
  {
   "cell_type": "code",
   "execution_count": 2,
   "metadata": {
    "slideshow": {
     "slide_type": "fragment"
    }
   },
   "outputs": [],
   "source": [
    "file = open('test_file', 'w')"
   ]
  },
  {
   "cell_type": "markdown",
   "metadata": {
    "slideshow": {
     "slide_type": "subslide"
    }
   },
   "source": [
    "1st argument is a name of file, while the second is a mode of operation. Mode consists of 3 parts:\n",
    "1. operation mode\n",
    "    * **r** - read file, writing to file is prohibited, default\n",
    "    * **w** - write to file, if file was before, it will delete all its content\n",
    "    * **a** - append file, new data will be written below previous\n",
    "    * **x** - create new file, if file exists before, it will throw an error\n",
    "2. file content\n",
    "    * **t** - plain text, default\n",
    "    * **b** - binary\n",
    "3. additional **+** - for both reading and writing"
   ]
  },
  {
   "cell_type": "markdown",
   "metadata": {
    "slideshow": {
     "slide_type": "subslide"
    }
   },
   "source": [
    "To write a text to the file we use `write()` method. It returns # of written characters"
   ]
  },
  {
   "cell_type": "code",
   "execution_count": 3,
   "metadata": {
    "slideshow": {
     "slide_type": "fragment"
    }
   },
   "outputs": [
    {
     "data": {
      "text/plain": [
       "32"
      ]
     },
     "execution_count": 3,
     "metadata": {},
     "output_type": "execute_result"
    }
   ],
   "source": [
    "# This method returns \n",
    "file.write('A new line of text in this file\\n')"
   ]
  },
  {
   "cell_type": "code",
   "execution_count": 39,
   "metadata": {
    "slideshow": {
     "slide_type": "fragment"
    }
   },
   "outputs": [
    {
     "data": {
      "text/plain": [
       "12"
      ]
     },
     "execution_count": 39,
     "metadata": {},
     "output_type": "execute_result"
    }
   ],
   "source": [
    "file.write('Another line')"
   ]
  },
  {
   "cell_type": "markdown",
   "metadata": {
    "slideshow": {
     "slide_type": "fragment"
    }
   },
   "source": [
    "After working with file it should be closed, opened abundoned files isn't a good thing. For this task we have a method `close()`"
   ]
  },
  {
   "cell_type": "code",
   "execution_count": 40,
   "metadata": {
    "slideshow": {
     "slide_type": "fragment"
    }
   },
   "outputs": [],
   "source": [
    "file.close()"
   ]
  },
  {
   "cell_type": "markdown",
   "metadata": {
    "slideshow": {
     "slide_type": "subslide"
    }
   },
   "source": [
    "There is a better way for opening and closing than that. It utilizes context manager.\n",
    "This is a preferrable way"
   ]
  },
  {
   "cell_type": "code",
   "execution_count": 41,
   "metadata": {
    "slideshow": {
     "slide_type": "fragment"
    }
   },
   "outputs": [],
   "source": [
    "with open('test_file', 'a') as file:\n",
    "    file.write(' continuation of line\\n')"
   ]
  },
  {
   "cell_type": "markdown",
   "metadata": {
    "slideshow": {
     "slide_type": "fragment"
    }
   },
   "source": [
    "```python\n",
    "# Open filename in mode and assign to variable_name\n",
    "with open(filename, mode) as variable_name:\n",
    "    operations\n",
    "# Here file is already closed!\n",
    "```"
   ]
  },
  {
   "cell_type": "markdown",
   "metadata": {
    "slideshow": {
     "slide_type": "slide"
    }
   },
   "source": [
    "Now let's talk about reading from file. There are several ways to do it"
   ]
  },
  {
   "cell_type": "code",
   "execution_count": 43,
   "metadata": {
    "slideshow": {
     "slide_type": "fragment"
    }
   },
   "outputs": [
    {
     "name": "stdout",
     "output_type": "stream",
     "text": [
      "A new line of text in this file\n",
      "Another line continuation of line\n",
      "\n"
     ]
    }
   ],
   "source": [
    "with open('test_file') as file:\n",
    "    text = file.read()\n",
    "    print(text)"
   ]
  },
  {
   "cell_type": "code",
   "execution_count": 44,
   "metadata": {
    "slideshow": {
     "slide_type": "fragment"
    }
   },
   "outputs": [
    {
     "name": "stdout",
     "output_type": "stream",
     "text": [
      "['A new line of text in this file\\n', 'Another line continuation of line\\n']\n"
     ]
    }
   ],
   "source": [
    "with open('test_file') as file:\n",
    "    text = file.readlines()\n",
    "    print(text)"
   ]
  },
  {
   "cell_type": "code",
   "execution_count": 46,
   "metadata": {
    "slideshow": {
     "slide_type": "subslide"
    }
   },
   "outputs": [
    {
     "name": "stdout",
     "output_type": "stream",
     "text": [
      "'A new line of text in this file\\n'\n",
      "Another line continuation of line\n",
      "\n"
     ]
    }
   ],
   "source": [
    "with open('test_file') as file:\n",
    "    first = file.readline()\n",
    "    print(repr(first))\n",
    "    print(file.read())"
   ]
  },
  {
   "cell_type": "code",
   "execution_count": 47,
   "metadata": {
    "slideshow": {
     "slide_type": "fragment"
    }
   },
   "outputs": [
    {
     "name": "stdout",
     "output_type": "stream",
     "text": [
      "A new line of text in this file\n",
      "\n",
      "Another line continuation of line\n",
      "\n"
     ]
    }
   ],
   "source": [
    "with open('test_file') as file:\n",
    "    for line in file:\n",
    "        print(line)"
   ]
  },
  {
   "cell_type": "markdown",
   "metadata": {
    "slideshow": {
     "slide_type": "subslide"
    }
   },
   "source": [
    "Some methods for reading\n",
    "* `read()` - read whole file into RAM (usually not recommended)\n",
    "* `readline()` - read 1 line from the file\n",
    "* `readlines()` - read whole file and return list of lines splitted by newline characters\n",
    "* `seek(position)` - remote file to a given position\n",
    "* `readable()` - whether file can be read"
   ]
  },
  {
   "cell_type": "markdown",
   "metadata": {
    "slideshow": {
     "slide_type": "subslide"
    }
   },
   "source": [
    "Several files can be opened with context manager on 1 line\n",
    "\n",
    "```python\n",
    "with open('file1', 'r') as source, open('file2', 'w') as destination:\n",
    "    some stuff\n",
    "```"
   ]
  }
 ],
 "metadata": {
  "celltoolbar": "Slideshow",
  "kernelspec": {
   "display_name": "Python 3",
   "language": "python",
   "name": "python3"
  },
  "language_info": {
   "codemirror_mode": {
    "name": "ipython",
    "version": 3
   },
   "file_extension": ".py",
   "mimetype": "text/x-python",
   "name": "python",
   "nbconvert_exporter": "python",
   "pygments_lexer": "ipython3",
   "version": "3.6.7"
  }
 },
 "nbformat": 4,
 "nbformat_minor": 2
}
