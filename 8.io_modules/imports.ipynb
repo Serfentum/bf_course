{
 "cells": [
  {
   "cell_type": "markdown",
   "metadata": {
    "slideshow": {
     "slide_type": "slide"
    }
   },
   "source": [
    "# Import\n",
    "![](images/import.jpg)"
   ]
  },
  {
   "cell_type": "markdown",
   "metadata": {
    "slideshow": {
     "slide_type": "slide"
    }
   },
   "source": [
    "## What's the heck is import in python?\n",
    "Sometimes you need more than you have in python. That's when the imports come in play - they makes using others code possible"
   ]
  },
  {
   "cell_type": "markdown",
   "metadata": {
    "slideshow": {
     "slide_type": "fragment"
    }
   },
   "source": [
    "For instance, create a directory on your computer\n",
    "```python\n",
    "import os\n",
    "\n",
    "os.makedirs('my_test_directory')\n",
    "```"
   ]
  },
  {
   "cell_type": "markdown",
   "metadata": {
    "slideshow": {
     "slide_type": "fragment"
    }
   },
   "source": [
    "What have I done?\n",
    "```python\n",
    "# Import module os\n",
    "import os\n",
    "\n",
    "# Invoke function makedirs from that module with 'my_test_directory' argument\n",
    "os.makedirs('my_test_directory')\n",
    "```"
   ]
  },
  {
   "cell_type": "markdown",
   "metadata": {
    "slideshow": {
     "slide_type": "subslide"
    }
   },
   "source": [
    "There are several ways of importing modules in python\n",
    "\n",
    "* `import module` - basic way\n",
    "* `import module as m` - import module with abbreviated name `m`\n",
    "* `from module import function` - import only function from module\n",
    "* `from module import function1, function2` - import only function1 and function2 from module\n",
    "* `from module import function as f` - import only function abbreviated as `f` from module\n",
    "* `from module import *` - import all functions from module"
   ]
  },
  {
   "cell_type": "markdown",
   "metadata": {
    "slideshow": {
     "slide_type": "slide"
    }
   },
   "source": [
    "### import module"
   ]
  },
  {
   "cell_type": "code",
   "execution_count": 12,
   "metadata": {
    "slideshow": {
     "slide_type": "fragment"
    }
   },
   "outputs": [
    {
     "name": "stdout",
     "output_type": "stream",
     "text": [
      "Radians - [0.0, 0.7853981633974483, 1.5707963267948966]\n",
      "Cosine of 0, 45 and 90 degrees - [1.0, 0.7071067811865476, 6.123233995736766e-17]\n"
     ]
    }
   ],
   "source": [
    "import math\n",
    "\n",
    "\n",
    "rads = [math.radians(x) for x in range(0, 91, 45)]\n",
    "print('Radians -', rads)\n",
    "\n",
    "print('Cosine of 0, 45 and 90 degrees -', [math.cos(x) for x in rads])"
   ]
  },
  {
   "cell_type": "markdown",
   "metadata": {
    "slideshow": {
     "slide_type": "subslide"
    }
   },
   "source": [
    "### import module as m"
   ]
  },
  {
   "cell_type": "code",
   "execution_count": 22,
   "metadata": {
    "slideshow": {
     "slide_type": "fragment"
    }
   },
   "outputs": [
    {
     "data": {
      "text/plain": [
       "[<matplotlib.lines.Line2D at 0x7f0f77bae978>]"
      ]
     },
     "execution_count": 22,
     "metadata": {},
     "output_type": "execute_result"
    },
    {
     "data": {
      "image/png": "[encoded data removed]",
      "text/plain": [
       "<Figure size 432x288 with 1 Axes>"
      ]
     },
     "metadata": {},
     "output_type": "display_data"
    }
   ],
   "source": [
    "import matplotlib.pyplot as plt\n",
    "%matplotlib inline\n",
    "\n",
    "\n",
    "xs = [x / 57 for x in range(0, 360)]\n",
    "ys = [math.cos(x) for x in xs]\n",
    "\n",
    "plt.plot(xs, ys)"
   ]
  },
  {
   "cell_type": "markdown",
   "metadata": {
    "slideshow": {
     "slide_type": "subslide"
    }
   },
   "source": [
    "### from module import function"
   ]
  },
  {
   "cell_type": "code",
   "execution_count": 53,
   "metadata": {
    "slideshow": {
     "slide_type": "fragment"
    }
   },
   "outputs": [
    {
     "name": "stdout",
     "output_type": "stream",
     "text": [
      "('J', 'H')\n",
      "('J', 'C')\n",
      "('J', 'S')\n",
      "('J', 'D')\n",
      "('Q', 'H')\n",
      "('Q', 'C')\n",
      "('Q', 'S')\n",
      "('Q', 'D')\n",
      "('K', 'H')\n",
      "('K', 'C')\n",
      "('K', 'S')\n",
      "('K', 'D')\n",
      "('A', 'H')\n",
      "('A', 'C')\n",
      "('A', 'S')\n",
      "('A', 'D')\n"
     ]
    }
   ],
   "source": [
    "from itertools import product\n",
    "\n",
    "\n",
    "for card in product(['J', 'Q', 'K', 'A'], ['H', 'C', 'S', 'D']):\n",
    "    print(card)"
   ]
  },
  {
   "cell_type": "markdown",
   "metadata": {
    "slideshow": {
     "slide_type": "subslide"
    }
   },
   "source": [
    "### from module import *"
   ]
  },
  {
   "cell_type": "code",
   "execution_count": 55,
   "metadata": {
    "slideshow": {
     "slide_type": "fragment"
    }
   },
   "outputs": [
    {
     "name": "stdout",
     "output_type": "stream",
     "text": [
      "48 1008\n"
     ]
    }
   ],
   "source": [
    "from sys import *\n",
    "\n",
    "\n",
    "print(getsizeof(range(100)), getsizeof(list(range(100))))"
   ]
  },
  {
   "cell_type": "markdown",
   "metadata": {
    "slideshow": {
     "slide_type": "slide"
    }
   },
   "source": [
    "## Modules\n",
    "Python scripts (that is your files with *py* extensions) are a modules. Division of code is convenient because you don't need to handle all necessary code in your script"
   ]
  },
  {
   "cell_type": "markdown",
   "metadata": {
    "slideshow": {
     "slide_type": "subslide"
    }
   },
   "source": [
    "Imagine this code in file *library.py*"
   ]
  },
  {
   "cell_type": "markdown",
   "metadata": {
    "slideshow": {
     "slide_type": "fragment"
    }
   },
   "source": [
    "```python\n",
    "print('Hi from the other module')\n",
    "\n",
    "def imba():\n",
    "    print(3 + 6)\n",
    "```"
   ]
  },
  {
   "cell_type": "markdown",
   "metadata": {
    "slideshow": {
     "slide_type": "fragment"
    }
   },
   "source": [
    "And the following in the other file *importer.py*"
   ]
  },
  {
   "cell_type": "markdown",
   "metadata": {
    "slideshow": {
     "slide_type": "fragment"
    }
   },
   "source": [
    "```python\n",
    "import library\n",
    "\n",
    "print(\"Let's work\")\n",
    "```"
   ]
  },
  {
   "cell_type": "markdown",
   "metadata": {
    "slideshow": {
     "slide_type": "subslide"
    }
   },
   "source": [
    "When you run *importer.py* this will happen:\n",
    "1. python looks for the *library.py* at current directory and in others, defined in its path variable\n",
    "1. content of *library.py* will be executed - you'll get string from `print()` and function `imba()`\n",
    "1. content of *importer.py* run - its own print will be evaluated\n",
    "1. just note - `imba()` function is available in *importer.py*"
   ]
  }
 ],
 "metadata": {
  "celltoolbar": "Slideshow",
  "kernelspec": {
   "display_name": "Python 3",
   "language": "python",
   "name": "python3"
  },
  "language_info": {
   "codemirror_mode": {
    "name": "ipython",
    "version": 3
   },
   "file_extension": ".py",
   "mimetype": "text/x-python",
   "name": "python",
   "nbconvert_exporter": "python",
   "pygments_lexer": "ipython3",
   "version": "3.6.7"
  }
 },
 "nbformat": 4,
 "nbformat_minor": 2
}
