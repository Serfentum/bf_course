{
 "cells": [
  {
   "cell_type": "markdown",
   "metadata": {
    "slideshow": {
     "slide_type": "slide"
    }
   },
   "source": [
    "# Graph representation\n",
    "![](images/graph.png)"
   ]
  },
  {
   "cell_type": "markdown",
   "metadata": {
    "slideshow": {
     "slide_type": "slide"
    }
   },
   "source": [
    "## Graph\n",
    "As you know graph is a collection of vertices, edges (and incidence relations)\n",
    "\n",
    "There are 2 main representations of graph in programming\n",
    "* adjacency list\n",
    "* adjacency matrix"
   ]
  },
  {
   "cell_type": "markdown",
   "metadata": {
    "slideshow": {
     "slide_type": "subslide"
    }
   },
   "source": [
    "### Adjacency list\n",
    "Can be implemented as a dictionary with lists\n",
    "\n",
    "`{1: [2, 3], 2: [1, 4, 5], 3: [1, 5], 4: [2], 5: [2, 3]}`\n",
    "\n",
    "* keys are vertices\n",
    "* values are lists of adjacent vertices"
   ]
  },
  {
   "cell_type": "markdown",
   "metadata": {
    "slideshow": {
     "slide_type": "subslide"
    }
   },
   "source": [
    "### Adjacency matrix\n",
    "Can be implemented as a  list of lists (or np 2d array, later about it)\n",
    "\n",
    "`[[0, 1, 1, 0, 0],\n",
    "  [1, 0, 0, 1, 1],\n",
    "  [1, 0, 0, 0, 1],\n",
    "  [0, 1, 0, 0, 0],\n",
    "  [0, 1, 1, 0, 0]]`\n",
    "\n",
    "* each row and column represent vertex\n",
    "* $G_{i,j}$ is 1 if $i^{th}$ vertex adjacent to $j^{th}$ vertex\n",
    "* 0 if not adjacent"
   ]
  },
  {
   "cell_type": "markdown",
   "metadata": {
    "slideshow": {
     "slide_type": "slide"
    }
   },
   "source": [
    "## Features\n",
    "1. space\n",
    "    * adjacency lists are good when # of edges is low (graph is sparse)\n",
    "    * adjacency matrix generally requires more space\n",
    "1. speed\n",
    "    * in adjacency list lookup whether an edge is present is $O(n)$ operation\n",
    "    * adjacency matrix support lookup whether an edge is present as a constant operation"
   ]
  }
 ],
 "metadata": {
  "celltoolbar": "Slideshow",
  "kernelspec": {
   "display_name": "Python 3",
   "language": "python",
   "name": "python3"
  },
  "language_info": {
   "codemirror_mode": {
    "name": "ipython",
    "version": 3
   },
   "file_extension": ".py",
   "mimetype": "text/x-python",
   "name": "python",
   "nbconvert_exporter": "python",
   "pygments_lexer": "ipython3",
   "version": "3.6.7"
  }
 },
 "nbformat": 4,
 "nbformat_minor": 2
}
