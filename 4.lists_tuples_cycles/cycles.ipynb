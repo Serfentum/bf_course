{
 "cells": [
  {
   "cell_type": "markdown",
   "metadata": {
    "slideshow": {
     "slide_type": "slide"
    }
   },
   "source": [
    "# Cycles\n",
    "![Logo is from Digital Ocean](images/ocean_logo.png)"
   ]
  },
  {
   "cell_type": "markdown",
   "metadata": {
    "slideshow": {
     "slide_type": "slide"
    }
   },
   "source": [
    "Typically there are steps in a program which you want to conduct several times  \n",
    "For example, here is a variant of protocol to preprocess sample:\n",
    "1. add ethanol\n",
    "1. evaporate\n",
    "1. add internal standard\n",
    "1. add derivatization agent\n",
    "1. vortex\n",
    "\n",
    "Imagine that you have 10 samples and want to process all of them. What should you do?"
   ]
  },
  {
   "cell_type": "markdown",
   "metadata": {
    "slideshow": {
     "slide_type": "subslide"
    }
   },
   "source": [
    "Here comes the cycle! This concept allows you to make something as many times as you want  \n",
    "In common language:\n",
    "\n",
    "For sample in samples:\n",
    "1. add ethanol\n",
    "1. evaporate\n",
    "1. add internal standard\n",
    "1. add derivatization agent\n",
    "1. vortex"
   ]
  },
  {
   "cell_type": "markdown",
   "metadata": {
    "slideshow": {
     "slide_type": "subslide"
    }
   },
   "source": [
    "In python:\n",
    "\n",
    "```python\n",
    "samples = `some collection`\n",
    "\n",
    "for sample in samples:\n",
    "    cycle_body\n",
    "```"
   ]
  },
  {
   "cell_type": "markdown",
   "metadata": {
    "slideshow": {
     "slide_type": "fragment"
    }
   },
   "source": [
    "```python\n",
    "for iteration_variable_name in iterable:\n",
    "    instructions\n",
    "```"
   ]
  },
  {
   "cell_type": "code",
   "execution_count": 2,
   "metadata": {
    "slideshow": {
     "slide_type": "slide"
    }
   },
   "outputs": [
    {
     "name": "stdout",
     "output_type": "stream",
     "text": [
      "1\n",
      "2\n",
      "3\n",
      "4\n",
      "5\n"
     ]
    }
   ],
   "source": [
    "numbers = [1, 2, 3, 4, 5]\n",
    "\n",
    "for number in numbers:\n",
    "    print(number)"
   ]
  },
  {
   "cell_type": "code",
   "execution_count": 3,
   "metadata": {
    "slideshow": {
     "slide_type": "subslide"
    }
   },
   "outputs": [
    {
     "name": "stdout",
     "output_type": "stream",
     "text": [
      "3\n",
      "6\n",
      "9\n",
      "12\n",
      "15\n"
     ]
    }
   ],
   "source": [
    "# More sophisticated variant\n",
    "for number in numbers:\n",
    "    print(number * 3)"
   ]
  },
  {
   "cell_type": "code",
   "execution_count": 2,
   "metadata": {
    "slideshow": {
     "slide_type": "subslide"
    }
   },
   "outputs": [
    {
     "name": "stdout",
     "output_type": "stream",
     "text": [
      "1 is positive\n",
      "-2 is negative\n",
      "3 is positive\n",
      "0 is zero!\n",
      "5 is positive\n"
     ]
    }
   ],
   "source": [
    "# Branching can take place inside a cycle\n",
    "numbers = [1, -2, 3, 0, 5]\n",
    "\n",
    "for number in numbers:\n",
    "    if number > 0:\n",
    "        print(number, 'is positive')\n",
    "    elif number < 0:\n",
    "        print(number, 'is negative')\n",
    "    else:\n",
    "        print(number, 'is zero!')"
   ]
  },
  {
   "cell_type": "markdown",
   "metadata": {
    "slideshow": {
     "slide_type": "slide"
    }
   },
   "source": [
    "## continue\n",
    "Now imagine that you need to skip cycle body for some values. To do it you can use `continue` key word"
   ]
  },
  {
   "cell_type": "code",
   "execution_count": 3,
   "metadata": {
    "slideshow": {
     "slide_type": "subslide"
    }
   },
   "outputs": [
    {
     "name": "stdout",
     "output_type": "stream",
     "text": [
      "-2 is negative\n"
     ]
    }
   ],
   "source": [
    "for number in numbers:\n",
    "    if number >= 0:\n",
    "        continue\n",
    "    elif number < 0:\n",
    "        print(number, 'is negative')"
   ]
  },
  {
   "cell_type": "code",
   "execution_count": 4,
   "metadata": {
    "slideshow": {
     "slide_type": "fragment"
    }
   },
   "outputs": [
    {
     "name": "stdout",
     "output_type": "stream",
     "text": [
      "-2 is negative\n"
     ]
    }
   ],
   "source": [
    "# Better way to do it\n",
    "for number in numbers:\n",
    "    if number >= 0:\n",
    "        continue\n",
    "    print(number, 'is negative')"
   ]
  },
  {
   "cell_type": "markdown",
   "metadata": {
    "slideshow": {
     "slide_type": "slide"
    }
   },
   "source": [
    "## break\n",
    "Another situation - you wanna cycle to run until it reach some value"
   ]
  },
  {
   "cell_type": "code",
   "execution_count": 5,
   "metadata": {
    "slideshow": {
     "slide_type": "fragment"
    }
   },
   "outputs": [
    {
     "name": "stdout",
     "output_type": "stream",
     "text": [
      "Working with 1 ...\n",
      "Working with -2 ...\n",
      "Working with 3 ...\n",
      "Encountering 0, exiting cycle...\n"
     ]
    }
   ],
   "source": [
    "for number in numbers:\n",
    "    if number != 0:\n",
    "        print('Working with', number, '...')\n",
    "    else:\n",
    "        print('Encountering 0, exiting cycle...')\n",
    "        break"
   ]
  },
  {
   "cell_type": "markdown",
   "metadata": {
    "slideshow": {
     "slide_type": "subslide"
    }
   },
   "source": [
    "Obviously you can combine them"
   ]
  },
  {
   "cell_type": "code",
   "execution_count": 6,
   "metadata": {
    "slideshow": {
     "slide_type": "fragment"
    }
   },
   "outputs": [
    {
     "name": "stdout",
     "output_type": "stream",
     "text": [
      "-2 is even\n",
      "0 is even\n"
     ]
    }
   ],
   "source": [
    "for num in numbers:\n",
    "    if num % 2 == 1:\n",
    "        continue\n",
    "    elif num > 2:\n",
    "        print(num)\n",
    "        break\n",
    "    print(num, 'is even')"
   ]
  },
  {
   "cell_type": "markdown",
   "metadata": {
    "slideshow": {
     "slide_type": "slide"
    }
   },
   "source": [
    "## range\n",
    "There is a number of useful functions which we can use to create iterables or collection via these iterables\n",
    "\n",
    "`range(start, stop, step)` - function-generator (later about it) which is nice to creating different ranges\n",
    "* `start` - start of numeric range, 0 by default\n",
    "* `stop` - stop of numeric range\n",
    "* `step` - step of range, 1 by default"
   ]
  },
  {
   "cell_type": "code",
   "execution_count": 21,
   "metadata": {
    "scrolled": true,
    "slideshow": {
     "slide_type": "fragment"
    }
   },
   "outputs": [
    {
     "name": "stdout",
     "output_type": "stream",
     "text": [
      "0\n",
      "1\n",
      "2\n",
      "3\n",
      "4\n"
     ]
    }
   ],
   "source": [
    "for i in range(0, 5, 1):\n",
    "    print(i)"
   ]
  },
  {
   "cell_type": "code",
   "execution_count": 22,
   "metadata": {
    "slideshow": {
     "slide_type": "subslide"
    }
   },
   "outputs": [
    {
     "name": "stdout",
     "output_type": "stream",
     "text": [
      "0\n",
      "1\n",
      "2\n",
      "3\n",
      "4\n"
     ]
    }
   ],
   "source": [
    "# Equivalent to\n",
    "for i in range(5):\n",
    "    print(i)"
   ]
  },
  {
   "cell_type": "code",
   "execution_count": 23,
   "metadata": {
    "slideshow": {
     "slide_type": "subslide"
    }
   },
   "outputs": [
    {
     "name": "stdout",
     "output_type": "stream",
     "text": [
      "3\n",
      "4\n",
      "5\n",
      "6\n",
      "7\n",
      "8\n",
      "9\n"
     ]
    }
   ],
   "source": [
    "# Changing the range\n",
    "for num in range(3, 10):\n",
    "    print(num)"
   ]
  },
  {
   "cell_type": "code",
   "execution_count": 25,
   "metadata": {
    "slideshow": {
     "slide_type": "subslide"
    }
   },
   "outputs": [
    {
     "name": "stdout",
     "output_type": "stream",
     "text": [
      "3\n",
      "6\n",
      "9\n"
     ]
    }
   ],
   "source": [
    "# With other step\n",
    "for num in range(3, 10, 3):\n",
    "    print(num)"
   ]
  },
  {
   "cell_type": "code",
   "execution_count": 27,
   "metadata": {
    "slideshow": {
     "slide_type": "fragment"
    }
   },
   "outputs": [
    {
     "name": "stdout",
     "output_type": "stream",
     "text": [
      "10\n",
      "9\n",
      "8\n",
      "7\n",
      "6\n",
      "5\n",
      "4\n"
     ]
    }
   ],
   "source": [
    "# Backwards\n",
    "for num in range(10, 3, -1):\n",
    "    print(num)"
   ]
  },
  {
   "cell_type": "markdown",
   "metadata": {
    "slideshow": {
     "slide_type": "slide"
    }
   },
   "source": [
    "## while\n",
    "Also there is another type of cycle - `while`"
   ]
  },
  {
   "cell_type": "markdown",
   "metadata": {
    "slideshow": {
     "slide_type": "fragment"
    }
   },
   "source": [
    "*Shake falcon **while** there is no phase separation!*"
   ]
  },
  {
   "cell_type": "code",
   "execution_count": 28,
   "metadata": {
    "slideshow": {
     "slide_type": "subslide"
    }
   },
   "outputs": [
    {
     "name": "stdout",
     "output_type": "stream",
     "text": [
      "5\n",
      "4\n",
      "3\n",
      "2\n",
      "1\n"
     ]
    }
   ],
   "source": [
    "i = 5\n",
    "\n",
    "while i > 0:\n",
    "    print(i)\n",
    "    i = i - 1"
   ]
  },
  {
   "cell_type": "code",
   "execution_count": null,
   "metadata": {
    "slideshow": {
     "slide_type": "fragment"
    }
   },
   "outputs": [],
   "source": [
    "while predicate:\n",
    "    cycle_body"
   ]
  },
  {
   "cell_type": "code",
   "execution_count": 30,
   "metadata": {
    "slideshow": {
     "slide_type": "subslide"
    }
   },
   "outputs": [
    {
     "name": "stdout",
     "output_type": "stream",
     "text": [
      "a is not X!\n"
     ]
    }
   ],
   "source": [
    "a = '!'\n",
    "\n",
    "while a != 'X':\n",
    "    print('a is not X!')\n",
    "    a = 'X'"
   ]
  },
  {
   "cell_type": "code",
   "execution_count": 31,
   "metadata": {
    "slideshow": {
     "slide_type": "subslide"
    }
   },
   "outputs": [
    {
     "name": "stdout",
     "output_type": "stream",
     "text": [
      "Ye, 35 is greater than 17\n",
      "And it will not change in next iteration\n",
      "What are you expecting from this code cell?\n",
      "If there will be no break\n"
     ]
    }
   ],
   "source": [
    "p = 35 > 17\n",
    "\n",
    "while p:\n",
    "    print('Ye, 35 is greater than 17')\n",
    "    print('And it will not change in next iteration')\n",
    "    print('What are you expecting from this code cell?')\n",
    "    print('If there will be no break')\n",
    "    break"
   ]
  },
  {
   "cell_type": "markdown",
   "metadata": {
    "slideshow": {
     "slide_type": "fragment"
    }
   },
   "source": [
    "```python\n",
    "p = True\n",
    "\n",
    "while True:\n",
    "    ...\n",
    "    ad infinitum\n",
    "    ...```"
   ]
  },
  {
   "cell_type": "markdown",
   "metadata": {
    "slideshow": {
     "slide_type": "subslide"
    }
   },
   "source": [
    "You should make change to your variables which will make your predicate `False` or have a reachable `break` keyword somewhere in your cycle\n",
    "\n",
    "<img src='images/responsibility.jpg' style='height: 500px'>"
   ]
  },
  {
   "cell_type": "markdown",
   "metadata": {
    "slideshow": {
     "slide_type": "slide"
    }
   },
   "source": [
    "## 2 common ways to iterate over list elements\n",
    "Preferred and should be used whenever possible, pythonic way\n",
    "```python\n",
    "for element in my_list:\n",
    "    do something with element\n",
    "    ```"
   ]
  },
  {
   "cell_type": "markdown",
   "metadata": {
    "slideshow": {
     "slide_type": "fragment"
    }
   },
   "source": [
    "Bad style\n",
    "```python\n",
    "for i in range(len(my_list)):\n",
    "    do something with my_list[i]\n",
    "    ```"
   ]
  },
  {
   "cell_type": "markdown",
   "metadata": {
    "slideshow": {
     "slide_type": "subslide"
    }
   },
   "source": [
    "It is possible that you will need index of element in addition to element per se  \n",
    "Use awesome `enumerate()` in this case\n",
    "\n",
    "```python\n",
    "for i, element in enumerate(my_list):\n",
    "    do something with element\n",
    "    do something with i```"
   ]
  },
  {
   "cell_type": "code",
   "execution_count": 33,
   "metadata": {
    "slideshow": {
     "slide_type": "fragment"
    }
   },
   "outputs": [
    {
     "name": "stdout",
     "output_type": "stream",
     "text": [
      "1 is on index 0 in list\n",
      "-2 is on index 1 in list\n",
      "3 is on index 2 in list\n",
      "0 is on index 3 in list\n",
      "5 is on index 4 in list\n"
     ]
    }
   ],
   "source": [
    "for i, element in enumerate(numbers):\n",
    "    print(element, 'is on index', i, 'in list')"
   ]
  },
  {
   "cell_type": "markdown",
   "metadata": {
    "slideshow": {
     "slide_type": "subslide"
    }
   },
   "source": [
    "You can iterate over all built-in data types which are collections. Everything which can be used in iteration is iterable.\n",
    "\n",
    "Almost everything except numbers and booleans is iterable (strings too)"
   ]
  },
  {
   "cell_type": "markdown",
   "metadata": {
    "slideshow": {
     "slide_type": "slide"
    }
   },
   "source": [
    "## Awesome shortcuts for arithmetic operations\n",
    "It is quite common to update variables like `i = i - 1` in example above. It is too long to write so, thus we have better way\n",
    "\n",
    "Shortcuts:\n",
    "\n",
    "* ```python\n",
    "i = i + x\n",
    "i += x```"
   ]
  },
  {
   "cell_type": "markdown",
   "metadata": {
    "slideshow": {
     "slide_type": "fragment"
    }
   },
   "source": [
    "* ```python\n",
    "i = i - x  \n",
    "i -= x```"
   ]
  },
  {
   "cell_type": "markdown",
   "metadata": {
    "slideshow": {
     "slide_type": "fragment"
    }
   },
   "source": [
    "* ```python\n",
    "i = i * x\n",
    "i *= x```"
   ]
  },
  {
   "cell_type": "markdown",
   "metadata": {
    "slideshow": {
     "slide_type": "subslide"
    }
   },
   "source": [
    "* ```python\n",
    "i = i / x\n",
    "i /= x```"
   ]
  },
  {
   "cell_type": "markdown",
   "metadata": {
    "slideshow": {
     "slide_type": "fragment"
    }
   },
   "source": [
    "* ```python\n",
    "i = i // x\n",
    "i //= x```"
   ]
  },
  {
   "cell_type": "markdown",
   "metadata": {
    "slideshow": {
     "slide_type": "fragment"
    }
   },
   "source": [
    "* ```python\n",
    "i = i % x\n",
    "i %= x```"
   ]
  },
  {
   "cell_type": "markdown",
   "metadata": {
    "slideshow": {
     "slide_type": "fragment"
    }
   },
   "source": [
    "* ```python\n",
    "i = i ** x\n",
    "i **= x```"
   ]
  }
 ],
 "metadata": {
  "celltoolbar": "Slideshow",
  "kernelspec": {
   "display_name": "Python 3",
   "language": "python",
   "name": "python3"
  },
  "language_info": {
   "codemirror_mode": {
    "name": "ipython",
    "version": 3
   },
   "file_extension": ".py",
   "mimetype": "text/x-python",
   "name": "python",
   "nbconvert_exporter": "python",
   "pygments_lexer": "ipython3",
   "version": "3.6.7"
  }
 },
 "nbformat": 4,
 "nbformat_minor": 2
}
