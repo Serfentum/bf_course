{
 "cells": [
  {
   "cell_type": "markdown",
   "metadata": {
    "slideshow": {
     "slide_type": "slide"
    }
   },
   "source": [
    "# Functions"
   ]
  },
  {
   "cell_type": "markdown",
   "metadata": {
    "slideshow": {
     "slide_type": "slide"
    }
   },
   "source": [
    "## Why functions?\n",
    "* Semantic enrichment of code\n",
    "* Reusability"
   ]
  },
  {
   "cell_type": "markdown",
   "metadata": {
    "slideshow": {
     "slide_type": "fragment"
    }
   },
   "source": [
    "Without function"
   ]
  },
  {
   "cell_type": "code",
   "execution_count": 1,
   "metadata": {
    "slideshow": {
     "slide_type": "fragment"
    }
   },
   "outputs": [],
   "source": [
    "t0 = 12\n",
    "t1 = -35\n",
    "t2 = 144\n",
    "\n",
    "f0 = t0 * 9 / 5 + 32\n",
    "f1 = t1 * 9 / 5 + 32\n",
    "f2 = t2 * 9 / 5 + 32"
   ]
  },
  {
   "cell_type": "markdown",
   "metadata": {
    "slideshow": {
     "slide_type": "subslide"
    }
   },
   "source": [
    "With function"
   ]
  },
  {
   "cell_type": "code",
   "execution_count": 2,
   "metadata": {
    "slideshow": {
     "slide_type": "fragment"
    }
   },
   "outputs": [
    {
     "name": "stdout",
     "output_type": "stream",
     "text": [
      "53.6\n",
      "-31.0\n",
      "291.2\n"
     ]
    }
   ],
   "source": [
    "def celsium_to_fahrenheit(celsium_temperature):\n",
    "    print(celsium_temperature * 9 / 5 + 32)\n",
    "\n",
    "\n",
    "t0 = 12\n",
    "t1 = -35\n",
    "t2 = 144\n",
    "\n",
    "f0 = celsium_to_fahrenheit(t0)\n",
    "f1 = celsium_to_fahrenheit(t1)\n",
    "f2 = celsium_to_fahrenheit(t2)"
   ]
  },
  {
   "cell_type": "markdown",
   "metadata": {
    "slideshow": {
     "slide_type": "slide"
    }
   },
   "source": [
    "## Function morphology"
   ]
  },
  {
   "cell_type": "markdown",
   "metadata": {
    "slideshow": {
     "slide_type": "fragment"
    }
   },
   "source": [
    "Definition\n",
    "```python\n",
    "def function_name(parameter1, parameter2):\n",
    "    function_body\n",
    "```\n",
    "Usage\n",
    "\n",
    "```python\n",
    "a = 3\n",
    "function_name(a, 'Qua-qua')\n",
    "```"
   ]
  },
  {
   "cell_type": "markdown",
   "metadata": {
    "slideshow": {
     "slide_type": "subslide"
    }
   },
   "source": [
    "For example\n",
    "```python\n",
    "print(\"Hi, guys\")\n",
    "```\n",
    "print - function name  \n",
    "\"Hi, guys\" - argument"
   ]
  },
  {
   "cell_type": "code",
   "execution_count": 1,
   "metadata": {
    "slideshow": {
     "slide_type": "slide"
    }
   },
   "outputs": [],
   "source": [
    "# Definition of function with 0 arguments\n",
    "def function_example():\n",
    "    print('!')"
   ]
  },
  {
   "cell_type": "code",
   "execution_count": 2,
   "metadata": {
    "slideshow": {
     "slide_type": "fragment"
    }
   },
   "outputs": [
    {
     "name": "stdout",
     "output_type": "stream",
     "text": [
      "!\n"
     ]
    }
   ],
   "source": [
    "# Usage\n",
    "function_example()"
   ]
  },
  {
   "cell_type": "code",
   "execution_count": 4,
   "metadata": {
    "slideshow": {
     "slide_type": "subslide"
    }
   },
   "outputs": [],
   "source": [
    "# Simple function\n",
    "def greet():\n",
    "    print('Hi there')"
   ]
  },
  {
   "cell_type": "code",
   "execution_count": 5,
   "metadata": {
    "slideshow": {
     "slide_type": "fragment"
    }
   },
   "outputs": [
    {
     "name": "stdout",
     "output_type": "stream",
     "text": [
      "Hi there\n"
     ]
    }
   ],
   "source": [
    "greet()"
   ]
  },
  {
   "cell_type": "code",
   "execution_count": 6,
   "metadata": {
    "slideshow": {
     "slide_type": "subslide"
    }
   },
   "outputs": [],
   "source": [
    "# Function with 1 argument called name\n",
    "def greet(name):\n",
    "    print('Hi there', name)"
   ]
  },
  {
   "cell_type": "code",
   "execution_count": 7,
   "metadata": {
    "slideshow": {
     "slide_type": "fragment"
    }
   },
   "outputs": [
    {
     "name": "stdout",
     "output_type": "stream",
     "text": [
      "Hi there Vasya\n"
     ]
    }
   ],
   "source": [
    "# Usage\n",
    "greet('Vasya')"
   ]
  },
  {
   "cell_type": "markdown",
   "metadata": {
    "slideshow": {
     "slide_type": "fragment"
    }
   },
   "source": [
    "In the moment of line execution with that function usage passed argument binds with argument in function\n",
    "\n",
    "In the previous example this takes place  \n",
    "name = 'Vasya'\n",
    "\n",
    "After that function body operates with the passed value as a variable called name"
   ]
  }
 ],
 "metadata": {
  "celltoolbar": "Slideshow",
  "kernelspec": {
   "display_name": "Python 3",
   "language": "python",
   "name": "python3"
  },
  "language_info": {
   "codemirror_mode": {
    "name": "ipython",
    "version": 3
   },
   "file_extension": ".py",
   "mimetype": "text/x-python",
   "name": "python",
   "nbconvert_exporter": "python",
   "pygments_lexer": "ipython3",
   "version": "3.6.7"
  }
 },
 "nbformat": 4,
 "nbformat_minor": 2
}
